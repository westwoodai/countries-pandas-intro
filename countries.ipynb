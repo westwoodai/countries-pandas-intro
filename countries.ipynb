{
  "metadata": {
    "kernelspec": {
      "name": "python",
      "display_name": "Python (Pyodide)",
      "language": "python"
    },
    "language_info": {
      "codemirror_mode": {
        "name": "python",
        "version": 3
      },
      "file_extension": ".py",
      "mimetype": "text/x-python",
      "name": "python",
      "nbconvert_exporter": "python",
      "pygments_lexer": "ipython3",
      "version": "3.8"
    }
  },
  "nbformat_minor": 5,
  "nbformat": 4,
  "cells": [
    {
      "id": "fe55883a-6887-43dd-9498-5333a51799e2",
      "cell_type": "code",
      "source": "import pandas as pd",
      "metadata": {
        "trusted": true
      },
      "outputs": [],
      "execution_count": 3
    },
    {
      "id": "bf8d5b77-07ec-442c-8385-a526cf7ea2f7",
      "cell_type": "code",
      "source": "# Reads the csv file and creates a DataFrame from the values\ndf = pd.read_csv('countries.csv')\n\n# Displays the first few rows in the DataFrame\ndf.head()",
      "metadata": {
        "trusted": true
      },
      "outputs": [
        {
          "execution_count": 6,
          "output_type": "execute_result",
          "data": {
            "text/plain": "           Country  Population  Area (sq. mi.)\n0     Afghanistan     31056997          647500\n1         Albania      3581655           28748\n2         Algeria     32930091         2381740\n3  American Samoa        57794             199\n4         Andorra        71201             468",
            "text/html": "<div>\n<style scoped>\n    .dataframe tbody tr th:only-of-type {\n        vertical-align: middle;\n    }\n\n    .dataframe tbody tr th {\n        vertical-align: top;\n    }\n\n    .dataframe thead th {\n        text-align: right;\n    }\n</style>\n<table border=\"1\" class=\"dataframe\">\n  <thead>\n    <tr style=\"text-align: right;\">\n      <th></th>\n      <th>Country</th>\n      <th>Population</th>\n      <th>Area (sq. mi.)</th>\n    </tr>\n  </thead>\n  <tbody>\n    <tr>\n      <th>0</th>\n      <td>Afghanistan</td>\n      <td>31056997</td>\n      <td>647500</td>\n    </tr>\n    <tr>\n      <th>1</th>\n      <td>Albania</td>\n      <td>3581655</td>\n      <td>28748</td>\n    </tr>\n    <tr>\n      <th>2</th>\n      <td>Algeria</td>\n      <td>32930091</td>\n      <td>2381740</td>\n    </tr>\n    <tr>\n      <th>3</th>\n      <td>American Samoa</td>\n      <td>57794</td>\n      <td>199</td>\n    </tr>\n    <tr>\n      <th>4</th>\n      <td>Andorra</td>\n      <td>71201</td>\n      <td>468</td>\n    </tr>\n  </tbody>\n</table>\n</div>"
          },
          "metadata": {}
        }
      ],
      "execution_count": 6
    },
    {
      "id": "889fd40d-e921-4bdf-b973-f7c87d90b661",
      "cell_type": "code",
      "source": "# Displays the first 10 rows in the DataFrame\n# Try changing the parameter to display more or less rows!\ndf.head(10)",
      "metadata": {
        "trusted": true
      },
      "outputs": [
        {
          "execution_count": 7,
          "output_type": "execute_result",
          "data": {
            "text/plain": "              Country  Population  Area (sq. mi.)\n0        Afghanistan     31056997          647500\n1            Albania      3581655           28748\n2            Algeria     32930091         2381740\n3     American Samoa        57794             199\n4            Andorra        71201             468\n5             Angola     12127071         1246700\n6           Anguilla        13477             102\n7  Antigua & Barbuda        69108             443\n8          Argentina     39921833         2766890\n9            Armenia      2976372           29800",
            "text/html": "<div>\n<style scoped>\n    .dataframe tbody tr th:only-of-type {\n        vertical-align: middle;\n    }\n\n    .dataframe tbody tr th {\n        vertical-align: top;\n    }\n\n    .dataframe thead th {\n        text-align: right;\n    }\n</style>\n<table border=\"1\" class=\"dataframe\">\n  <thead>\n    <tr style=\"text-align: right;\">\n      <th></th>\n      <th>Country</th>\n      <th>Population</th>\n      <th>Area (sq. mi.)</th>\n    </tr>\n  </thead>\n  <tbody>\n    <tr>\n      <th>0</th>\n      <td>Afghanistan</td>\n      <td>31056997</td>\n      <td>647500</td>\n    </tr>\n    <tr>\n      <th>1</th>\n      <td>Albania</td>\n      <td>3581655</td>\n      <td>28748</td>\n    </tr>\n    <tr>\n      <th>2</th>\n      <td>Algeria</td>\n      <td>32930091</td>\n      <td>2381740</td>\n    </tr>\n    <tr>\n      <th>3</th>\n      <td>American Samoa</td>\n      <td>57794</td>\n      <td>199</td>\n    </tr>\n    <tr>\n      <th>4</th>\n      <td>Andorra</td>\n      <td>71201</td>\n      <td>468</td>\n    </tr>\n    <tr>\n      <th>5</th>\n      <td>Angola</td>\n      <td>12127071</td>\n      <td>1246700</td>\n    </tr>\n    <tr>\n      <th>6</th>\n      <td>Anguilla</td>\n      <td>13477</td>\n      <td>102</td>\n    </tr>\n    <tr>\n      <th>7</th>\n      <td>Antigua &amp; Barbuda</td>\n      <td>69108</td>\n      <td>443</td>\n    </tr>\n    <tr>\n      <th>8</th>\n      <td>Argentina</td>\n      <td>39921833</td>\n      <td>2766890</td>\n    </tr>\n    <tr>\n      <th>9</th>\n      <td>Armenia</td>\n      <td>2976372</td>\n      <td>29800</td>\n    </tr>\n  </tbody>\n</table>\n</div>"
          },
          "metadata": {}
        }
      ],
      "execution_count": 7
    },
    {
      "id": "5a007468-b437-4c64-9bc6-15fd73388882",
      "cell_type": "code",
      "source": "# Gives info about the DataFrame regarding total number of entries and number of null values\ndf.info()",
      "metadata": {
        "trusted": true
      },
      "outputs": [
        {
          "name": "stdout",
          "output_type": "stream",
          "text": "<class 'pandas.core.frame.DataFrame'>\nRangeIndex: 227 entries, 0 to 226\nData columns (total 3 columns):\n #   Column          Non-Null Count  Dtype \n---  ------          --------------  ----- \n 0   Country         227 non-null    object\n 1   Population      227 non-null    int64 \n 2   Area (sq. mi.)  227 non-null    int64 \ndtypes: int64(2), object(1)\nmemory usage: 4.5+ KB\n"
        }
      ],
      "execution_count": 8
    },
    {
      "id": "6e2b0180-60b6-42e0-bfbb-76afaad0d3a3",
      "cell_type": "code",
      "source": "# Iterates through every row in the DataFrame\nfor index, row in df.iterrows():\n    # Creates new variable called population_density (accesses population value and divides by area value)\n    population_density = row['Population'] / row['Area (sq. mi.)']\n    # Prints the value of the country row at the current iteration, and the population density to 2 decimal places\n    print(f'{row['Country']}: {population_density:.2f}')",
      "metadata": {
        "trusted": true
      },
      "outputs": [
        {
          "name": "stdout",
          "output_type": "stream",
          "text": "Afghanistan : 47.96\nAlbania : 124.59\nAlgeria : 13.83\nAmerican Samoa : 290.42\nAndorra : 152.14\nAngola : 9.73\nAnguilla : 132.13\nAntigua & Barbuda : 156.00\nArgentina : 14.43\nArmenia : 99.88\nAruba : 372.49\nAustralia : 2.64\nAustria : 97.69\nAzerbaijan : 91.94\nBahamas, The : 21.79\nBahrain : 1050.50\nBangladesh : 1023.37\nBarbados : 649.45\nBelarus : 49.58\nBelgium : 339.99\nBelize : 12.53\nBenin : 69.82\nBermuda : 1241.00\nBhutan : 48.50\nBolivia : 8.18\nBosnia & Herzegovina : 87.99\nBotswana : 2.73\nBrazil : 22.10\nBritish Virgin Is. : 150.97\nBrunei : 65.76\nBulgaria : 66.59\nBurkina Faso : 50.70\nBurma : 69.83\nBurundi : 290.70\nCambodia : 76.68\nCameroon : 36.47\nCanada : 3.31\nCape Verde : 104.38\nCayman Islands : 173.42\nCentral African Rep. : 6.91\nChad : 7.74\nChile : 21.31\nChina : 136.92\nColombia : 38.28\nComoros : 318.41\nCongo, Dem. Rep. : 26.72\nCongo, Repub. of the : 10.83\nCook Islands : 89.12\nCosta Rica : 79.75\nCote d'Ivoire : 54.75\nCroatia : 79.49\nCuba : 102.68\nCyprus : 84.79\nCzech Republic : 129.78\nDenmark : 126.48\nDjibouti : 21.15\nDominica : 91.39\nDominican Republic : 188.47\nEast Timor : 70.82\nEcuador : 47.78\nEgypt : 78.77\nEl Salvador : 324.26\nEquatorial Guinea : 19.25\nEritrea : 39.46\nEstonia : 29.28\nEthiopia : 66.34\nFaroe Islands : 33.77\nFiji : 49.59\nFinland : 15.47\nFrance : 111.28\nFrench Guiana : 2.19\nFrench Polynesia : 65.89\nGabon : 5.32\nGambia, The : 145.27\nGaza Strip : 3968.77\nGeorgia : 66.88\nGermany : 230.86\nGhana : 93.58\nGibraltar : 3989.71\nGreece : 81.01\nGreenland : 0.03\nGrenada : 260.76\nGuadeloupe : 254.37\nGuam : 316.12\nGuatemala : 112.90\nGuernsey : 838.58\nGuinea : 39.41\nGuinea-Bissau : 39.92\nGuyana : 3.57\nHaiti : 299.41\nHonduras : 65.36\nHong Kong : 6355.71\nHungary : 107.29\nIceland : 2.91\nIndia : 333.18\nIndonesia : 127.88\nIran : 41.68\nIraq : 61.28\nIreland : 57.80\nIsle of Man : 131.89\nIsrael : 305.83\nItaly : 192.99\nJamaica : 250.94\nJapan : 337.35\nJersey : 785.21\nJordan : 64.00\nKazakhstan : 5.61\nKenya : 59.57\nKiribati : 130.00\nKorea, North : 191.75\nKorea, South : 496.01\nKuwait : 135.71\nKyrgyzstan : 26.27\nLaos : 26.89\nLatvia : 35.22\nLebanon : 372.50\nLesotho : 66.62\nLiberia : 27.31\nLibya : 3.35\nLiechtenstein : 212.42\nLithuania : 55.00\nLuxembourg : 183.45\nMacau : 16183.04\nMacedonia : 80.94\nMadagascar : 31.68\nMalawi : 109.84\nMalaysia : 73.95\nMaldives : 1196.69\nMali : 9.45\nMalta : 1266.50\nMarshall Islands : 5.10\nMartinique : 396.48\nMauritania : 3.08\nMauritius : 608.25\nMayotte : 538.06\nMexico : 54.47\nMicronesia, Fed. St. : 153.85\nMoldova : 131.98\nMonaco : 16271.50\nMongolia : 1.81\nMontserrat : 92.54\nMorocco : 74.44\nMozambique : 24.56\nNamibia : 2.48\nNauru : 632.71\nNepal : 192.19\nNetherlands : 397.14\nNetherlands Antilles : 230.97\nNew Caledonia : 11.50\nNew Zealand : 15.17\nNicaragua : 43.01\nNiger : 9.89\nNigeria : 142.74\nN. Mariana Islands : 172.87\nNorway : 14.24\nOman : 14.60\nPakistan : 206.24\nPalau : 44.93\nPanama : 40.81\nPapua New Guinea : 12.25\nParaguay : 16.00\nPeru : 22.02\nPhilippines : 298.23\nPoland : 123.25\nPortugal : 114.79\nPuerto Rico : 284.79\nQatar : 77.41\nReunion : 312.91\nRomania : 93.91\nRussia : 8.37\nRwanda : 328.36\nSaint Helena : 18.16\nSaint Kitts & Nevis : 149.92\nSaint Lucia : 273.47\nSt Pierre & Miquelon : 29.03\nSaint Vincent and the Grenadines : 302.95\nSamoa : 60.09\nSan Marino : 479.52\nSao Tome & Principe : 193.22\nSaudi Arabia : 13.78\nSenegal : 61.10\nSerbia : 106.34\nSeychelles : 179.21\nSierra Leone : 83.71\nSingapore : 6482.18\nSlovakia : 111.36\nSlovenia : 99.16\nSolomon Islands : 19.42\nSomalia : 13.90\nSouth Africa : 36.22\nSpain : 80.03\nSri Lanka : 308.22\nSudan : 16.46\nSuriname : 2.69\nSwaziland : 65.45\nSweden : 20.04\nSwitzerland : 182.22\nSyria : 101.96\nTaiwan : 640.25\nTajikistan : 51.16\nTanzania : 39.62\nThailand : 125.74\nTogo : 97.71\nTonga : 153.33\nTrinidad & Tobago : 207.85\nTunisia : 62.19\nTurkey : 90.21\nTurkmenistan : 10.33\nTurks & Caicos Is : 49.19\nTuvalu : 454.23\nUganda : 119.45\nUkraine : 77.37\nUnited Arab Emirates : 31.40\nUnited Kingdom : 247.57\nUnited States : 30.99\nUruguay : 19.48\nUzbekistan : 61.04\nVanuatu : 17.12\nVenezuela : 28.21\nVietnam : 256.11\nVirgin Islands : 56.86\nWallis and Futuna : 58.49\nWest Bank : 419.88\nWestern Sahara : 1.03\nYemen : 40.64\nZambia : 15.28\nZimbabwe : 31.33\n"
        }
      ],
      "execution_count": 21
    },
    {
      "id": "7d8c99e7-68e2-45fa-847c-5de44e9eb1b5",
      "cell_type": "code",
      "source": "",
      "metadata": {
        "trusted": true
      },
      "outputs": [],
      "execution_count": null
    }
  ]
}